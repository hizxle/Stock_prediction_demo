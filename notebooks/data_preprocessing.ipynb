{
  "nbformat": 4,
  "nbformat_minor": 0,
  "metadata": {
    "colab": {
      "provenance": []
    },
    "kernelspec": {
      "name": "python3",
      "display_name": "Python 3"
    },
    "language_info": {
      "name": "python"
    }
  },
  "cells": [
    {
      "cell_type": "markdown",
      "source": [
        "# Импорт датасетов"
      ],
      "metadata": {
        "id": "F0NViyYZeM_0"
      }
    },
    {
      "cell_type": "markdown",
      "source": [
        "Через Google Drive"
      ],
      "metadata": {
        "id": "wR4usyLjecw5"
      }
    },
    {
      "cell_type": "code",
      "source": [
        "news = pd.read_csv('/content/drive/MyDrive/news_processed.csv')\n",
        "df = pd.read_csv('/content/drive/MyDrive/train.csv')"
      ],
      "metadata": {
        "id": "dylAufIheOb3"
      },
      "execution_count": null,
      "outputs": []
    },
    {
      "cell_type": "markdown",
      "source": [
        "Напрямую"
      ],
      "metadata": {
        "id": "yX5uuxMyefAE"
      }
    },
    {
      "cell_type": "code",
      "source": [
        "news = pd.read_csv('/content/news_processed.csv')\n",
        "df = pd.read_csv('/content/train.csv')"
      ],
      "metadata": {
        "id": "Ie79uvndiyoc"
      },
      "execution_count": null,
      "outputs": []
    },
    {
      "cell_type": "markdown",
      "source": [],
      "metadata": {
        "id": "si8K11pFn2Ld"
      }
    },
    {
      "cell_type": "markdown",
      "source": [
        "# Импорт библиотек"
      ],
      "metadata": {
        "id": "hvKfOrBO4UEN"
      }
    },
    {
      "cell_type": "code",
      "source": [
        "import numpy as np\n",
        "import pandas as pd\n",
        "import matplotlib.pyplot as plt\n",
        "import torch\n",
        "import tensorflow as tf\n",
        "import seaborn as sns"
      ],
      "metadata": {
        "id": "RIgoxwvyz0aZ"
      },
      "execution_count": null,
      "outputs": []
    },
    {
      "cell_type": "markdown",
      "source": [
        "# Построение эмбеддингов"
      ],
      "metadata": {
        "id": "efbEMB4A4MnH"
      }
    },
    {
      "cell_type": "code",
      "source": [
        "from transformers import pipeline\n",
        "pipe = pipeline(\"feature-extraction\", model=\"DeepPavlov/rubert-base-cased\",)"
      ],
      "metadata": {
        "colab": {
          "base_uri": "https://localhost:8080/",
          "height": 360,
          "referenced_widgets": [
            "cb42c9d492fd4a16bb0a27e20a77edb0",
            "9a76833bf06c45ad820f3d1d83c5947f",
            "7de66facf8774b539fbbcdd7afec79b0",
            "d562aaea0f9a452f904efff379b36da2",
            "28d15d0d7f034c4e9e1ccc29ece198de",
            "1ac0c1255dce4975b2910c958ab5536c",
            "b2d6ed742136463493d1e055ddb3d50f",
            "17d3a0c72ecf4befa9b45e5d45d9399d",
            "757f12da9c2e43faaab4d730aaf4e642",
            "cd469a212b0642a698df59f7395e8e0b",
            "38c50af39bd243fb8f1a267ce8892c59",
            "6ee4cfd108124c53b015f0645bdb1c5f",
            "e261b6c913c44638891ca39dde781159",
            "1bb764b883c64242b576175beb83d6cd",
            "4e4c0940acd2499080eb22abe9fc7a9b",
            "209e26585e3f4877b05c2d90e28a64d8",
            "19da5b7f6d0441cbae367690dd75e730",
            "f6746f0cb8e346f4be814cd24445c94c",
            "5f9e4905949d4dcc8fed11d2ca166ab0",
            "cda71b39eb3e46b9b35694a3e68ea554",
            "c90f0bcc538b47879e72d3b923f6a2ad",
            "ef2dff507d144faaaffdb7bc2e0e2811",
            "c4a79998f6cc46b490ee5d285b1d6366",
            "850f8c6ada3e47d69599dfff632fe98a",
            "32a3ede54fd74a8382851b4cc8cad854",
            "584d73b8c1804956b6c1714ed38a05e6",
            "fddb8a8886f745048cd9017e6a3884b8",
            "3935904576dd4d6dbe60a154801a5124",
            "7b6d46ba58404924b2c9c3121384eb0f",
            "6138761c399049fc939e3f2467a2495f",
            "753756435fec4ec399ffceadf47e3ac8",
            "0d2437f6c0c44602a10b6b1d99a8b521",
            "7fbd99fde0784862a3b1950f7583aa87",
            "1260bf14a07c4b3a992d1da16a933b45",
            "3ed7cf401b8543a9b10642d38b3d553c",
            "fb9047f6b0b9499aa2c1be05848d4efc",
            "2a979e6cd6b44a61ae6f142248e1c2b4",
            "7cb86a7fa7704feebdc99e8b402874a9",
            "927e7a7c9c1b467babb4d53acd3d5485",
            "891f7cfabe3543558ea17a8ff2b25b96",
            "3e4ed10b03c6495185bb1232b95fac58",
            "5f7cb60c8a974211bab6966479ca5201",
            "d2c4e729eeb3419f962ce18efb22aea9",
            "d2f7095da62c4ec0b30e7dc11600bfa2",
            "aa0a89edffb449baa1358d4584ff29d2",
            "f471a37e27624aa8812534870b0f6bfc",
            "7c29e0dc33314038a49fc60d2fbe6587",
            "7027c5b15ade4830b7f3c181423d7a3a",
            "ae923be1cd334a5b821fcc9b46eadf9b",
            "d49c240b0c6c4446bf9d3bb2e90ed0f6",
            "a2c1145c5abf42669126ecfe022a992f",
            "8ba4d42ee13b46b89cae2d9598424619",
            "a05f6ca20684407f9dc6476630ab104d",
            "5450b23ce38c4cb4b3a9ff3784584a79",
            "c183d976dbe9499b8da47cbc0e978adc"
          ]
        },
        "id": "uk7udhiPdXuF",
        "outputId": "cb36a953-e0d8-4226-d1af-452c7876144e"
      },
      "execution_count": null,
      "outputs": [
        {
          "output_type": "stream",
          "name": "stderr",
          "text": [
            "/usr/local/lib/python3.10/dist-packages/huggingface_hub/utils/_token.py:89: UserWarning: \n",
            "The secret `HF_TOKEN` does not exist in your Colab secrets.\n",
            "To authenticate with the Hugging Face Hub, create a token in your settings tab (https://huggingface.co/settings/tokens), set it as secret in your Google Colab and restart your session.\n",
            "You will be able to reuse this secret in all of your notebooks.\n",
            "Please note that authentication is recommended but still optional to access public models or datasets.\n",
            "  warnings.warn(\n"
          ]
        },
        {
          "output_type": "display_data",
          "data": {
            "text/plain": [
              "config.json:   0%|          | 0.00/642 [00:00<?, ?B/s]"
            ],
            "application/vnd.jupyter.widget-view+json": {
              "version_major": 2,
              "version_minor": 0,
              "model_id": "cb42c9d492fd4a16bb0a27e20a77edb0"
            }
          },
          "metadata": {}
        },
        {
          "output_type": "display_data",
          "data": {
            "text/plain": [
              "pytorch_model.bin:   0%|          | 0.00/714M [00:00<?, ?B/s]"
            ],
            "application/vnd.jupyter.widget-view+json": {
              "version_major": 2,
              "version_minor": 0,
              "model_id": "6ee4cfd108124c53b015f0645bdb1c5f"
            }
          },
          "metadata": {}
        },
        {
          "output_type": "stream",
          "name": "stderr",
          "text": [
            "Some weights of the model checkpoint at DeepPavlov/rubert-base-cased were not used when initializing BertModel: ['cls.predictions.bias', 'cls.predictions.decoder.bias', 'cls.predictions.decoder.weight', 'cls.predictions.transform.LayerNorm.bias', 'cls.predictions.transform.LayerNorm.weight', 'cls.predictions.transform.dense.bias', 'cls.predictions.transform.dense.weight', 'cls.seq_relationship.bias', 'cls.seq_relationship.weight']\n",
            "- This IS expected if you are initializing BertModel from the checkpoint of a model trained on another task or with another architecture (e.g. initializing a BertForSequenceClassification model from a BertForPreTraining model).\n",
            "- This IS NOT expected if you are initializing BertModel from the checkpoint of a model that you expect to be exactly identical (initializing a BertForSequenceClassification model from a BertForSequenceClassification model).\n"
          ]
        },
        {
          "output_type": "display_data",
          "data": {
            "text/plain": [
              "tokenizer_config.json:   0%|          | 0.00/24.0 [00:00<?, ?B/s]"
            ],
            "application/vnd.jupyter.widget-view+json": {
              "version_major": 2,
              "version_minor": 0,
              "model_id": "c4a79998f6cc46b490ee5d285b1d6366"
            }
          },
          "metadata": {}
        },
        {
          "output_type": "display_data",
          "data": {
            "text/plain": [
              "vocab.txt:   0%|          | 0.00/1.65M [00:00<?, ?B/s]"
            ],
            "application/vnd.jupyter.widget-view+json": {
              "version_major": 2,
              "version_minor": 0,
              "model_id": "1260bf14a07c4b3a992d1da16a933b45"
            }
          },
          "metadata": {}
        },
        {
          "output_type": "display_data",
          "data": {
            "text/plain": [
              "special_tokens_map.json:   0%|          | 0.00/112 [00:00<?, ?B/s]"
            ],
            "application/vnd.jupyter.widget-view+json": {
              "version_major": 2,
              "version_minor": 0,
              "model_id": "aa0a89edffb449baa1358d4584ff29d2"
            }
          },
          "metadata": {}
        }
      ]
    },
    {
      "cell_type": "code",
      "source": [
        "# Load model directly\n",
        "from transformers import AutoTokenizer, AutoModel\n",
        "\n",
        "tokenizer = AutoTokenizer.from_pretrained(\"DeepPavlov/rubert-base-cased\")\n",
        "model = AutoModel.from_pretrained(\"DeepPavlov/rubert-base-cased\")\n",
        "\n",
        "def get_embs(batch):\n",
        "  encoded_input = tokenizer(batch, return_tensors='pt', padding=\"longest\", truncation=True, max_length=512)\n",
        "\n",
        "  # Generate embeddings\n",
        "  with torch.no_grad():\n",
        "      outputs = model(**encoded_input)\n",
        "\n",
        "  # Get the last hidden state of the model, which represents the embeddings\n",
        "  embeddings = outputs.last_hidden_state\n",
        "\n",
        "  # Average the embeddings to get a single sentence embedding\n",
        "  sentence_embedding = torch.mean(embeddings, dim=1).squeeze()\n",
        "  return sentence_embedding"
      ],
      "metadata": {
        "colab": {
          "base_uri": "https://localhost:8080/"
        },
        "id": "tlQhnw9U0WzR",
        "outputId": "59801bbf-4071-4d91-eeb1-8acc3c02740e"
      },
      "execution_count": null,
      "outputs": [
        {
          "output_type": "stream",
          "name": "stderr",
          "text": [
            "Some weights of the model checkpoint at DeepPavlov/rubert-base-cased were not used when initializing BertModel: ['cls.predictions.bias', 'cls.predictions.decoder.bias', 'cls.predictions.decoder.weight', 'cls.predictions.transform.LayerNorm.bias', 'cls.predictions.transform.LayerNorm.weight', 'cls.predictions.transform.dense.bias', 'cls.predictions.transform.dense.weight', 'cls.seq_relationship.bias', 'cls.seq_relationship.weight']\n",
            "- This IS expected if you are initializing BertModel from the checkpoint of a model trained on another task or with another architecture (e.g. initializing a BertForSequenceClassification model from a BertForPreTraining model).\n",
            "- This IS NOT expected if you are initializing BertModel from the checkpoint of a model that you expect to be exactly identical (initializing a BertForSequenceClassification model from a BertForSequenceClassification model).\n"
          ]
        }
      ]
    },
    {
      "cell_type": "code",
      "source": [
        "def get_embeddings(text_series, batch_size=32):\n",
        "    text_series = text_series.astype(str)\n",
        "    embeddings_list = []\n",
        "    for i in range(0, len(text_series), batch_size):\n",
        "        batch = text_series[i:i+batch_size].to_list()\n",
        "        embeddings = get_embs(batch)\n",
        "        embeddings_list.append(embeddings)\n",
        "    return torch.concat(embeddings_list, axis=0)\n",
        "\n",
        "news_embeddings_list = [get_embeddings(news[col]) for col in ['title', 'content']]"
      ],
      "metadata": {
        "id": "L9VvWIb1dI-7"
      },
      "execution_count": null,
      "outputs": []
    },
    {
      "cell_type": "code",
      "source": [
        "pd.DataFrame(news_embeddings_list[0]).to_csv('news_embedding_title.csv')\n",
        "pd.DataFrame(news_embeddings_list[1]).to_csv('news_embedding_content.csv')"
      ],
      "metadata": {
        "id": "qbppHXTAMfrm"
      },
      "execution_count": null,
      "outputs": []
    },
    {
      "cell_type": "code",
      "source": [
        "title = news_embeddings_list[0]\n",
        "content = news_embeddings_list[1]"
      ],
      "metadata": {
        "id": "CEyneD4NoEnz"
      },
      "execution_count": null,
      "outputs": []
    },
    {
      "cell_type": "markdown",
      "source": [
        "# Предобработка данных"
      ],
      "metadata": {
        "id": "PuJAd-g4eiK5"
      }
    },
    {
      "cell_type": "markdown",
      "source": [
        "Feature Engineering"
      ],
      "metadata": {
        "id": "pA6Ir4j9gYKm"
      }
    },
    {
      "cell_type": "code",
      "source": [
        "df['datetime'] = pd.to_datetime(df['DATE']+' '+df['TIME'])"
      ],
      "metadata": {
        "id": "7NWR_utkhcat"
      },
      "execution_count": null,
      "outputs": []
    },
    {
      "cell_type": "code",
      "source": [
        "df = df.set_index(['TICKER', 'datetime'])"
      ],
      "metadata": {
        "id": "qWWdKhPdel24"
      },
      "execution_count": null,
      "outputs": []
    },
    {
      "cell_type": "code",
      "source": [
        "news['datetime'] = pd.to_datetime(news['datetime'])"
      ],
      "metadata": {
        "id": "fzuGvA-jepge"
      },
      "execution_count": null,
      "outputs": []
    },
    {
      "cell_type": "code",
      "source": [
        "df['datetime'] = pd.to_datetime(df['DATE']+' '+df['TIME'])\n",
        "df = df.drop(['TIME','DATE','PER'], axis=1)"
      ],
      "metadata": {
        "id": "v-VBHm06eHfI"
      },
      "execution_count": null,
      "outputs": []
    },
    {
      "cell_type": "markdown",
      "source": [
        "Преобразования датасетов"
      ],
      "metadata": {
        "id": "gxzT9KG5gg9f"
      }
    },
    {
      "cell_type": "code",
      "source": [
        "df_outer_join = pd.merge(news, content, on='Unnamed: 0', how='outer')"
      ],
      "metadata": {
        "id": "HHNYbPKn-I9V"
      },
      "execution_count": null,
      "outputs": []
    },
    {
      "cell_type": "code",
      "source": [
        "news_with_embeddings = pd.merge(df_outer_join, titles, on='Unnamed: 0', how = 'outer')"
      ],
      "metadata": {
        "id": "CFc08TaI_j7X"
      },
      "execution_count": null,
      "outputs": []
    },
    {
      "cell_type": "code",
      "source": [
        "dataset = []\n",
        "for i, row in news_with_embeddings.iterrows():\n",
        "  for tick in ('SBER', ):\n",
        "    try:\n",
        "\n",
        "      date = row['datetime']\n",
        "      date -= dt.timedelta(seconds = date.second)\n",
        "      td = dt.timedelta(hours=1)\n",
        "      delta = df.loc[(tick, pd.Timestamp(date))] - df.loc[(tick, pd.Timestamp(date - td))]\n",
        "      el_to_append = {\n",
        "          'title': row['title'],\n",
        "          'tick': tick,\n",
        "          'score': delta['CLOSE'],\n",
        "          'content': row['content'],\n",
        "          'datetime':row['datetime'],\n",
        "          'open':df.loc[(tick, pd.Timestamp(date))]['OPEN'],\n",
        "          'close':df.loc[(tick, pd.Timestamp(date+td))]['CLOSE'],\n",
        "          'low': df.loc[(tick, pd.Timestamp(date))]['LOW'],\n",
        "          'high': df.loc[(tick, pd.Timestamp(date))]['HIGH'],\n",
        "          'vol': df.loc[(tick, pd.Timestamp(date))]['VOL']\n",
        "\n",
        "      }\n",
        "      for i in range(768):\n",
        "        el_to_append[f'{i}_x'] = row[f'{i}_x']\n",
        "        el_to_append[f'{i}_y'] = row[f'{i}_y']\n",
        "      dataset.append(el_to_append)\n",
        "    except:\n",
        "      pass\n"
      ],
      "metadata": {
        "id": "_y1DwCU2jStb"
      },
      "execution_count": null,
      "outputs": []
    },
    {
      "cell_type": "code",
      "source": [
        "df = pd.DataFrame(dataset)"
      ],
      "metadata": {
        "id": "pSo145eDCAYu"
      },
      "execution_count": null,
      "outputs": []
    },
    {
      "cell_type": "code",
      "source": [
        "df = df.drop(['content', 'title'], axis = 1)"
      ],
      "metadata": {
        "id": "YJVNoj3SIbt3"
      },
      "execution_count": null,
      "outputs": []
    },
    {
      "cell_type": "markdown",
      "source": [
        "Экспорт итогового датасета"
      ],
      "metadata": {
        "id": "lJQUAq0NepgB"
      }
    },
    {
      "cell_type": "code",
      "source": [
        "ready_df.to_csv('dataframe_no_text.csv', index = False)"
      ],
      "metadata": {
        "id": "9HLd4lMgwBjj"
      },
      "execution_count": null,
      "outputs": []
    }
  ]
}